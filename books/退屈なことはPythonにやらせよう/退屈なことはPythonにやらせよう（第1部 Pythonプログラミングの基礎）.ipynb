{
 "cells": [
  {
   "cell_type": "markdown",
   "metadata": {
    "toc": true
   },
   "source": [
    "<h1>Table of Contents<span class=\"tocSkip\"></span></h1>\n",
    "<div class=\"toc\" style=\"margin-top: 1em;\"><ul class=\"toc-item\"><li><span><a href=\"#Pythonの入門\" data-toc-modified-id=\"Pythonの入門-1\"><span class=\"toc-item-num\">1&nbsp;&nbsp;</span>Pythonの入門</a></span><ul class=\"toc-item\"><li><span><a href=\"#式をインタラクティブシェルに入門する\" data-toc-modified-id=\"式をインタラクティブシェルに入門する-1.1\"><span class=\"toc-item-num\">1.1&nbsp;&nbsp;</span>式をインタラクティブシェルに入門する</a></span></li><li><span><a href=\"#整数、浮動小数点数、文字列型\" data-toc-modified-id=\"整数、浮動小数点数、文字列型-1.2\"><span class=\"toc-item-num\">1.2&nbsp;&nbsp;</span>整数、浮動小数点数、文字列型</a></span></li><li><span><a href=\"#文字列の連結と複製\" data-toc-modified-id=\"文字列の連結と複製-1.3\"><span class=\"toc-item-num\">1.3&nbsp;&nbsp;</span>文字列の連結と複製</a></span></li><li><span><a href=\"#変数に値を格納する\" data-toc-modified-id=\"変数に値を格納する-1.4\"><span class=\"toc-item-num\">1.4&nbsp;&nbsp;</span>変数に値を格納する</a></span><ul class=\"toc-item\"><li><span><a href=\"#代入文\" data-toc-modified-id=\"代入文-1.4.1\"><span class=\"toc-item-num\">1.4.1&nbsp;&nbsp;</span>代入文</a></span></li><li><span><a href=\"#変数名\" data-toc-modified-id=\"変数名-1.4.2\"><span class=\"toc-item-num\">1.4.2&nbsp;&nbsp;</span>変数名</a></span></li></ul></li><li><span><a href=\"#最初のプログラム\" data-toc-modified-id=\"最初のプログラム-1.5\"><span class=\"toc-item-num\">1.5&nbsp;&nbsp;</span>最初のプログラム</a></span></li><li><span><a href=\"#プログラムを分析する\" data-toc-modified-id=\"プログラムを分析する-1.6\"><span class=\"toc-item-num\">1.6&nbsp;&nbsp;</span>プログラムを分析する</a></span><ul class=\"toc-item\"><li><span><a href=\"#コメント\" data-toc-modified-id=\"コメント-1.6.1\"><span class=\"toc-item-num\">1.6.1&nbsp;&nbsp;</span>コメント</a></span></li><li><span><a href=\"#print()関数\" data-toc-modified-id=\"print()関数-1.6.2\"><span class=\"toc-item-num\">1.6.2&nbsp;&nbsp;</span>print()関数</a></span></li><li><span><a href=\"#input()関数\" data-toc-modified-id=\"input()関数-1.6.3\"><span class=\"toc-item-num\">1.6.3&nbsp;&nbsp;</span>input()関数</a></span></li><li><span><a href=\"#ユーザー名を表示する\" data-toc-modified-id=\"ユーザー名を表示する-1.6.4\"><span class=\"toc-item-num\">1.6.4&nbsp;&nbsp;</span>ユーザー名を表示する</a></span></li><li><span><a href=\"#len()関数\" data-toc-modified-id=\"len()関数-1.6.5\"><span class=\"toc-item-num\">1.6.5&nbsp;&nbsp;</span>len()関数</a></span></li><li><span><a href=\"#str()、int()、float()関数\" data-toc-modified-id=\"str()、int()、float()関数-1.6.6\"><span class=\"toc-item-num\">1.6.6&nbsp;&nbsp;</span>str()、int()、float()関数</a></span></li></ul></li><li><span><a href=\"#まとめ\" data-toc-modified-id=\"まとめ-1.7\"><span class=\"toc-item-num\">1.7&nbsp;&nbsp;</span>まとめ</a></span></li><li><span><a href=\"#演習問題\" data-toc-modified-id=\"演習問題-1.8\"><span class=\"toc-item-num\">1.8&nbsp;&nbsp;</span>演習問題</a></span></li></ul></li><li><span><a href=\"#フロー制御\" data-toc-modified-id=\"フロー制御-2\"><span class=\"toc-item-num\">2&nbsp;&nbsp;</span>フロー制御</a></span></li><li><span><a href=\"#関数\" data-toc-modified-id=\"関数-3\"><span class=\"toc-item-num\">3&nbsp;&nbsp;</span>関数</a></span></li><li><span><a href=\"#リスト\" data-toc-modified-id=\"リスト-4\"><span class=\"toc-item-num\">4&nbsp;&nbsp;</span>リスト</a></span></li><li><span><a href=\"#辞書とデータ構造##-文字列の操作\" data-toc-modified-id=\"辞書とデータ構造##-文字列の操作-5\"><span class=\"toc-item-num\">5&nbsp;&nbsp;</span>辞書とデータ構造## 文字列の操作</a></span></li></ul></div>"
   ]
  },
  {
   "cell_type": "markdown",
   "metadata": {},
   "source": [
    "**なぜこの本を手に取ったか**\n",
    "\n",
    "- ツールであるPythonを使って、効率的な作業ができないかと\n",
    "\n",
    "- 漠然としたツールとしてのプログラミングへのあこがれ\n",
    "\n",
    "<p>\n",
    "コンピュータは、スイス・アーミーナイフのように、ありとあらゆる仕事に合わせて仕立て上げることができます。多くの人が何時間もクリックやキー入力をして反復作業をしていますが、目の前の機械に正しく指示すれば数秒で作業を完了できることに気づいていないのです。\n",
    "</p>\n",
    "\n",
    "- \n",
    "\n",
    "- \n",
    "\n",
    "- \n",
    "\n",
    "\n",
    "**本書の対象読者**\n",
    "\n",
    "\n",
    "本書は読者を\n",
    "\n",
    "<div style=\"text-align: center;\">\n",
    "**プロのソフトウェア開発者に養成するものではありません**\n",
    "</div>\n",
    "\n",
    "\n",
    "ギターのレッスンを数回受けたところで、ロックスターになれるわけではないのと同じです。けれども、事務職や管理職の人、学校、会社、自宅で仕事や娯楽のためにコンピュータを使う人が本書を読めば、プログラミングの基本を覚えて、次のような単純作業を自動化できるようになるでしょう。\n",
    "\n",
    "- 何千個ものファイルを移動し、名前を変え、フォルダに分ける\n",
    "- オンラインのフォーム（申し込み画面）を、キーボードを使わずに入力する\n",
    "- Webサイトが更新されたら、自動的にファイルをダウンロードしたりテキストをコピーする\n",
    "- コンピュータから通知メールを送ってもらう\n",
    "- Excelのスプレッドシートを更新・整形する\n",
    "- 電子メールをチェックして、事前に用意しておいた返事を送信する\n",
    "\n",
    "\n",
    "プログラミングの知識を少し身につければ、\n",
    "\n",
    "<div style=\"text-align: center;\">\n",
    "**面倒な作業をコンピュータにやらせる**\n",
    "</div>\n",
    "\n",
    "ことができるようになるのです。\n",
    "\n",
    "\n",
    "**本書の構成**\n",
    "\n",
    "本書はリファレンスマニュアルではなく、初心者のための入門書です。本書は最小限の労力でプログラムを動作させることを重視します。\n",
    "\n",
    "\n",
    "\n",
    "**プログラミングとは何か？**\n",
    "\n",
    "\n",
    "\n",
    "\n",
    "\n",
    "\n",
    "\n",
    "\n",
    "\n",
    "# Pythonの入門\n",
    "\n",
    "## 式をインタラクティブシェルに入門する\n",
    "\n",
    "\n",
    "IDLEが推奨されているけども、今回はJupyterでやってみよう。\n",
    "Jupyterの魅力は、なんと言ってもコードの実行とメモの両方をブラウザ上でみることができること。\n",
    "\n",
    "\n"
   ]
  },
  {
   "cell_type": "code",
   "execution_count": 2,
   "metadata": {
    "ExecuteTime": {
     "end_time": "2017-11-04T23:28:14.671862Z",
     "start_time": "2017-11-04T23:28:14.668347Z"
    }
   },
   "outputs": [
    {
     "data": {
      "text/plain": [
       "4"
      ]
     },
     "execution_count": 2,
     "metadata": {},
     "output_type": "execute_result"
    }
   ],
   "source": [
    "2 + 2"
   ]
  },
  {
   "cell_type": "markdown",
   "metadata": {},
   "source": [
    "こんな感じでね。Pythonの式で使える演算子は、以下のとおり。下表にPythonの数学演算子を示します。\n",
    "\n",
    "イメージの貼り付けは、どうやるんだったかな。。。\n",
    "とりあえず、一つのノートブックと同名のフォルダーを作ってそこに放り込むことにしよう。\n",
    "\n",
    "<img src=\"./Taikutsu_Python/P.4_Table_1-1.png\">\n",
    "\n",
    "これで、よさそうだ。フォルダーが日本語だと気持ち悪いのでローマ字に。\n",
    "図のファイルネームは、当該書籍のページ番号とナンバリングにしようかなと。"
   ]
  },
  {
   "cell_type": "code",
   "execution_count": 3,
   "metadata": {
    "ExecuteTime": {
     "end_time": "2017-11-04T23:37:21.643801Z",
     "start_time": "2017-11-04T23:37:21.640308Z"
    }
   },
   "outputs": [
    {
     "data": {
      "text/plain": [
       "20"
      ]
     },
     "execution_count": 3,
     "metadata": {},
     "output_type": "execute_result"
    }
   ],
   "source": [
    "2 + 3 * 6"
   ]
  },
  {
   "cell_type": "code",
   "execution_count": 4,
   "metadata": {
    "ExecuteTime": {
     "end_time": "2017-11-04T23:38:49.076093Z",
     "start_time": "2017-11-04T23:38:49.071843Z"
    }
   },
   "outputs": [
    {
     "data": {
      "text/plain": [
       "16.0"
      ]
     },
     "execution_count": 4,
     "metadata": {},
     "output_type": "execute_result"
    }
   ],
   "source": [
    "(5 - 1 ) * ((7 + 1) / (3 - 1))"
   ]
  },
  {
   "cell_type": "markdown",
   "metadata": {},
   "source": [
    "それぞれの例において、式を入力してやるだけで、Pythonは面倒な計算をしてひとつの値を求めてくれます。図1-1に示すように、Pythonはひとつの値になるまで式の部分を繰り返し評価します。\n",
    "\n",
    "<img src=\"./Taikutsu_Python/P.6_Fig_1-1.png\">\n",
    "\n",
    "こんな感じに。\n",
    "\n",
    "\n",
    "演算子と値を組み合わせて式を作るルールは、プログラミング言語としてのPythonの基本です。人間どうしでもスムーズにコミュニケーションをとるには文法が大事なのと同じです。\n",
    "\n",
    "Pythonの命令を間違って入力すると、Pythonは理解することができず、次のようなSyntaxError（シンタックスエラー。文法エラー）のエラーメッセージを表示するのです。"
   ]
  },
  {
   "cell_type": "markdown",
   "metadata": {},
   "source": [
    "## 整数、浮動小数点数、文字列型\n",
    "\n",
    "Pythonは、ひたすたに\n",
    "\n",
    "\n",
    "<div style=\"text-align: center;\">\n",
    "**式を評価**\n",
    "</div>\n",
    "\n",
    "\n",
    "している。といえるのかな。"
   ]
  },
  {
   "cell_type": "code",
   "execution_count": null,
   "metadata": {
    "collapsed": true
   },
   "outputs": [],
   "source": []
  },
  {
   "cell_type": "code",
   "execution_count": null,
   "metadata": {
    "collapsed": true
   },
   "outputs": [],
   "source": []
  },
  {
   "cell_type": "code",
   "execution_count": null,
   "metadata": {
    "collapsed": true
   },
   "outputs": [],
   "source": []
  },
  {
   "cell_type": "markdown",
   "metadata": {},
   "source": [
    "## 文字列の連結と複製\n",
    "\n",
    "## 変数に値を格納する\n",
    "\n",
    "### 代入文\n",
    "### 変数名\n",
    "\n",
    "## 最初のプログラム\n",
    "\n",
    "## プログラムを分析する\n",
    "\n",
    "### コメント\n",
    "\n",
    "### print()関数\n",
    "\n",
    "### input()関数\n",
    "\n",
    "### ユーザー名を表示する\n",
    "\n",
    "### len()関数\n",
    "\n",
    "### str()、int()、float()関数\n",
    "\n",
    "## まとめ\n",
    "\n",
    "## 演習問題\n",
    "\n",
    "\n",
    "\n",
    "\n",
    "\n",
    "# フロー制御\n",
    "\n",
    "# 関数\n",
    "\n",
    "# リスト\n",
    "\n",
    "# 辞書とデータ構造## 文字列の操作"
   ]
  },
  {
   "cell_type": "code",
   "execution_count": 5,
   "metadata": {
    "ExecuteTime": {
     "end_time": "2017-11-05T06:38:30.411074Z",
     "start_time": "2017-11-05T06:38:19.052148Z"
    }
   },
   "outputs": [
    {
     "name": "stdout",
     "output_type": "stream",
     "text": [
      "Hello world!\n",
      "What is your name?\n",
      "mashi\n",
      "It is good to meet you, mashi\n",
      "The length of your name is:\n",
      "5\n",
      "What is your age?\n",
      "46\n",
      "You will be 47 in a year.\n"
     ]
    }
   ],
   "source": [
    "print('Hello world!') # ❷\n",
    "print('What is your name?') # 名前を尋ねる\n",
    "my_name = input() # ❸\n",
    "print('It is good to meet you, ' + my_name) # ❹\n",
    "print('The length of your name is:') # 名前の長さを表示 ❺\n",
    "print(len(my_name))\n",
    "print('What is your age?') # 年齢を尋ねる ❻\n",
    "my_age = input()\n",
    "print('You will be ' + str(int(my_age) + 1) + ' in a year.') # 来年の年齢を表示"
   ]
  }
 ],
 "metadata": {
  "kernelspec": {
   "display_name": "Python 3",
   "language": "python",
   "name": "python3"
  },
  "language_info": {
   "codemirror_mode": {
    "name": "ipython",
    "version": 3
   },
   "file_extension": ".py",
   "mimetype": "text/x-python",
   "name": "python",
   "nbconvert_exporter": "python",
   "pygments_lexer": "ipython3",
   "version": "3.6.5"
  },
  "latex_envs": {
   "LaTeX_envs_menu_present": true,
   "autocomplete": true,
   "bibliofile": "biblio.bib",
   "cite_by": "apalike",
   "current_citInitial": 1,
   "eqLabelWithNumbers": true,
   "eqNumInitial": 1,
   "hotkeys": {
    "equation": "Ctrl-E",
    "itemize": "Ctrl-I"
   },
   "labels_anchors": false,
   "latex_user_defs": false,
   "report_style_numbering": false,
   "user_envs_cfg": false
  },
  "toc": {
   "nav_menu": {},
   "number_sections": true,
   "sideBar": true,
   "skip_h1_title": false,
   "toc_cell": true,
   "toc_position": {},
   "toc_section_display": "block",
   "toc_window_display": true
  }
 },
 "nbformat": 4,
 "nbformat_minor": 2
}
