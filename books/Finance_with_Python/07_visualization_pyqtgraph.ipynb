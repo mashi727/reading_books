{
 "cells": [
  {
   "cell_type": "markdown",
   "metadata": {},
   "source": [
    "# Python for Financial Data Science\n",
    "\n",
    "Dr Yves J Hilpisch | The Python Quants GmbH\n",
    "\n",
    "http://tpq.io | <a href=\"mailto:training@tpq.io\">training@tpq.io</a>\n",
    "\n",
    "\n",
    "<img src=\"http://hilpisch.com/images/py4fi_2nd_shadow.png\" width=\"35%\" align=\"left\">"
   ]
  },
  {
   "cell_type": "markdown",
   "metadata": {},
   "source": [
    "# Datavisualization with PyQtGraph"
   ]
  },
  {
   "cell_type": "markdown",
   "metadata": {},
   "source": [
    "## Static 2D Plotting"
   ]
  },
  {
   "cell_type": "markdown",
   "metadata": {},
   "source": [
    "### One-Dimensional Data Set"
   ]
  },
  {
   "cell_type": "code",
   "execution_count": 1,
   "metadata": {},
   "outputs": [
    {
     "name": "stderr",
     "output_type": "stream",
     "text": [
      "/var/folders/ll/fpkbs_yd7nlfdrp99dnsc4y80000gn/T/ipykernel_12224/3853994382.py:14: DeprecationWarning: GraphicsWindow is deprecated, use GraphicsLayoutWidget instead,will be removed in 0.13\n",
      "  self.win = pg.GraphicsWindow()\n"
     ]
    }
   ],
   "source": [
    "import pyqtgraph as pg\n",
    "from pyqtgraph.Qt import QtCore, QtGui\n",
    "import numpy as np\n",
    "import sys\n",
    "\n",
    "\n",
    "class PlotGraph:\n",
    "    def __init__(self):\n",
    "        # UIを設定\n",
    "        # アンチエイリアスを指定するとプロットがより綺麗になる\n",
    "        pg.setConfigOptions(antialias=True)\n",
    "        pg.setConfigOption('background', (255, 255, 255)) # 背景＝薄水色\n",
    "        pg.setConfigOption('foreground', (0, 0, 0))       # 前景＝黒\n",
    "        self.win = pg.GraphicsWindow()\n",
    "        self.win.setWindowTitle('Static 2D Plotting')\n",
    "        self.plt = self.win.addPlot()\n",
    "\n",
    "        # setting plot window background color to yellow\n",
    "        #self.win.setBackground('y')\n",
    "\n",
    "        import numpy as np\n",
    "        np.random.seed(1000)\n",
    "        y = np.random.standard_normal(20)\n",
    "        x = np.arange(len(y))\n",
    "        setprop = lambda x: (x.showGrid(x=True, y=True, alpha=0.75),\n",
    "                                x.setAutoVisible(y=True),\n",
    "                                x.enableAutoRange('y'),\n",
    "                                x.showAxis('left'),\n",
    "                                x.hideAxis('right'),\n",
    "                                x.getAxis('right').setWidth(70),\n",
    "                                )\n",
    "        setprop(self.plt)\n",
    "\n",
    "        vb = self.plt.getViewBox()\n",
    "        vb.setBackgroundColor((234, 234, 242))\n",
    "        self.plt.plot(x,y)\n",
    "\n",
    "\n",
    "\n",
    "\n",
    "if __name__ == \"__main__\":\n",
    "    graphWin = PlotGraph()\n",
    "\n",
    "    if (sys.flags.interactive != 1) or not hasattr(QtCore, 'PYQT_VERSION'):\n",
    "        QtGui.QApplication.instance().exec_()"
   ]
  },
  {
   "cell_type": "code",
   "execution_count": 1,
   "metadata": {},
   "outputs": [
    {
     "name": "stderr",
     "output_type": "stream",
     "text": [
      "/var/folders/ll/fpkbs_yd7nlfdrp99dnsc4y80000gn/T/ipykernel_11904/2293877956.py:10: DeprecationWarning: GraphicsWindow is deprecated, use GraphicsLayoutWidget instead,will be removed in 0.13\n",
      "  self.win = pg.GraphicsWindow()\n"
     ]
    }
   ],
   "source": [
    "import pyqtgraph as pg\n",
    "from pyqtgraph.Qt import QtCore, QtGui\n",
    "import numpy as np\n",
    "import sys\n",
    "\n",
    "\n",
    "class PlotGraph:\n",
    "    def __init__(self):\n",
    "        # UIを設定\n",
    "        self.win = pg.GraphicsWindow()\n",
    "        self.win.setWindowTitle('Static 2D Plotting')\n",
    "        self.plt = self.win.addPlot()\n",
    "        import numpy as np\n",
    "        np.random.seed(1000)\n",
    "        y = np.random.standard_normal(20)\n",
    "        x = np.arange(len(y))\n",
    "\n",
    "        setprop = lambda x: (x.showGrid(x=True, y=True, alpha=0.75),\n",
    "                                x.setAutoVisible(y=True),\n",
    "                                x.enableAutoRange('y'),\n",
    "                                x.showAxis('left'),\n",
    "                                x.hideAxis('right'),\n",
    "                                x.getAxis('right').setWidth(70),\n",
    "                                )\n",
    "        setprop(self.plt)\n",
    "        \n",
    "        self.plt.plot(y)\n",
    "\n",
    "if __name__ == \"__main__\":\n",
    "    graphWin = PlotGraph()\n",
    "\n",
    "    if (sys.flags.interactive != 1) or not hasattr(QtCore, 'PYQT_VERSION'):\n",
    "        QtGui.QApplication.instance().exec_()"
   ]
  },
  {
   "cell_type": "code",
   "execution_count": 1,
   "metadata": {},
   "outputs": [
    {
     "name": "stderr",
     "output_type": "stream",
     "text": [
      "/var/folders/ll/fpkbs_yd7nlfdrp99dnsc4y80000gn/T/ipykernel_11402/4215223476.py:10: DeprecationWarning: GraphicsWindow is deprecated, use GraphicsLayoutWidget instead,will be removed in 0.13\n",
      "  self.win = pg.GraphicsWindow()\n"
     ]
    }
   ],
   "source": [
    "import pyqtgraph as pg\n",
    "from pyqtgraph.Qt import QtCore, QtGui\n",
    "import numpy as np\n",
    "import sys\n",
    "\n",
    "\n",
    "class PlotGraph:\n",
    "    def __init__(self):\n",
    "        # UIを設定\n",
    "        self.win = pg.GraphicsWindow()\n",
    "        self.win.setWindowTitle('Static 2D Plotting')\n",
    "        self.plt = self.win.addPlot()\n",
    "        import numpy as np\n",
    "        np.random.seed(1000)\n",
    "        y = np.random.standard_normal(20)\n",
    "        x = np.arange(len(y))\n",
    "\n",
    "        setprop = lambda x: (x.showGrid(x=True, y=True, alpha=0.75),\n",
    "                                x.setAutoVisible(y=True),\n",
    "                                x.enableAutoRange('y'),\n",
    "                                x.showAxis('right'),\n",
    "                                x.hideAxis('left'),\n",
    "                                x.getAxis('right').setWidth(70),\n",
    "                                )\n",
    "        setprop(self.plt)\n",
    "        \n",
    "        self.plt.plot(y.cumsum())\n",
    "\n",
    "\n",
    "if __name__ == \"__main__\":\n",
    "    graphWin = PlotGraph()\n",
    "\n",
    "    if (sys.flags.interactive != 1) or not hasattr(QtCore, 'PYQT_VERSION'):\n",
    "        QtGui.QApplication.instance().exec_()"
   ]
  },
  {
   "cell_type": "code",
   "execution_count": 1,
   "metadata": {},
   "outputs": [
    {
     "name": "stderr",
     "output_type": "stream",
     "text": [
      "/var/folders/ll/fpkbs_yd7nlfdrp99dnsc4y80000gn/T/ipykernel_11486/141644877.py:10: DeprecationWarning: GraphicsWindow is deprecated, use GraphicsLayoutWidget instead,will be removed in 0.13\n",
      "  self.win = pg.GraphicsWindow()\n"
     ]
    }
   ],
   "source": [
    "import pyqtgraph as pg\n",
    "from pyqtgraph.Qt import QtCore, QtGui\n",
    "import numpy as np\n",
    "import sys\n",
    "\n",
    "\n",
    "class PlotGraph:\n",
    "    def __init__(self):\n",
    "        # UIを設定\n",
    "        self.win = pg.GraphicsWindow()\n",
    "        self.win.setWindowTitle('Static 2D Plotting')\n",
    "        self.plt = self.win.addPlot()\n",
    "        import numpy as np\n",
    "        np.random.seed(1000)\n",
    "        y = np.random.standard_normal(20)\n",
    "        x = np.arange(len(y))\n",
    "\n",
    "        setprop = lambda x: (x.showGrid(x=False, y=False, alpha=0.75),\n",
    "                                x.setAutoVisible(y=True),\n",
    "                                x.enableAutoRange('y'),\n",
    "                                x.showAxis('right'),\n",
    "                                x.hideAxis('left'),\n",
    "                                x.getAxis('right').setWidth(70),\n",
    "                                )\n",
    "        setprop(self.plt)\n",
    "        \n",
    "        self.plt.plot(y.cumsum())\n",
    "\n",
    "\n",
    "if __name__ == \"__main__\":\n",
    "    graphWin = PlotGraph()\n",
    "\n",
    "    if (sys.flags.interactive != 1) or not hasattr(QtCore, 'PYQT_VERSION'):\n",
    "        QtGui.QApplication.instance().exec_()"
   ]
  },
  {
   "cell_type": "code",
   "execution_count": 1,
   "metadata": {},
   "outputs": [
    {
     "name": "stderr",
     "output_type": "stream",
     "text": [
      "/var/folders/ll/fpkbs_yd7nlfdrp99dnsc4y80000gn/T/ipykernel_11605/2327171844.py:10: DeprecationWarning: GraphicsWindow is deprecated, use GraphicsLayoutWidget instead,will be removed in 0.13\n",
      "  self.win = pg.GraphicsWindow()\n"
     ]
    }
   ],
   "source": [
    "import pyqtgraph as pg\n",
    "from pyqtgraph.Qt import QtCore, QtGui\n",
    "import numpy as np\n",
    "import sys\n",
    "\n",
    "\n",
    "class PlotGraph:\n",
    "    def __init__(self):\n",
    "        # UIを設定\n",
    "        self.win = pg.GraphicsWindow()\n",
    "        self.win.setWindowTitle('Static 2D Plotting')\n",
    "        self.plt = self.win.addPlot()\n",
    "        import numpy as np\n",
    "        np.random.seed(1000)\n",
    "        y = np.random.standard_normal(20)\n",
    "        x = np.arange(len(y))\n",
    "\n",
    "        setprop = lambda x: (x.showGrid(x=True, y=True, alpha=0.75),\n",
    "                                x.setAutoVisible(y=True),\n",
    "                                x.enableAutoRange('y'),\n",
    "                                x.showAxis('right'),\n",
    "                                x.hideAxis('left'),\n",
    "                                x.getAxis('right').setWidth(70),\n",
    "                                )\n",
    "        setprop(self.plt)\n",
    "\n",
    "        self.plt.setXRange(-1, 20)\n",
    "        miny = np.min(y.cumsum()) - 1\n",
    "        maxy = np.max(y.cumsum()) + 1\n",
    "        self.plt.setYRange(miny, maxy)\n",
    "        \n",
    "        #self.plt.setXRange(self.minx, self.maxx, padding=0)\n",
    "        self.plt.plot(y.cumsum())\n",
    "\n",
    "\n",
    "if __name__ == \"__main__\":\n",
    "    graphWin = PlotGraph()\n",
    "\n",
    "    if (sys.flags.interactive != 1) or not hasattr(QtCore, 'PYQT_VERSION'):\n",
    "        QtGui.QApplication.instance().exec_()"
   ]
  },
  {
   "cell_type": "code",
   "execution_count": null,
   "metadata": {},
   "outputs": [],
   "source": []
  }
 ],
 "metadata": {
  "interpreter": {
   "hash": "1b987fe1fa57516b045df865f9872fb92436a170baae18ce91725f352f9190dc"
  },
  "kernelspec": {
   "display_name": "Python 3.9.1 64-bit ('3.9.1': pyenv)",
   "language": "python",
   "name": "python3"
  },
  "language_info": {
   "codemirror_mode": {
    "name": "ipython",
    "version": 3
   },
   "file_extension": ".py",
   "mimetype": "text/x-python",
   "name": "python",
   "nbconvert_exporter": "python",
   "pygments_lexer": "ipython3",
   "version": "3.9.1"
  },
  "orig_nbformat": 4
 },
 "nbformat": 4,
 "nbformat_minor": 2
}
