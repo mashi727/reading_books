{
    "cells": [
        {
            "cell_type": "markdown",
            "metadata": {},
            "source": "\"\"\"\n\n\u7df4\u7fd2\u554f\u984c\u89e3\u7b54\n\n\n## \u7b2c1\u7ae0 \u7df4\u7fd2\u554f\u984c\n\n### 1.1\n\u6b21\u306e\u7d71\u8a08\u306b\u3064\u3044\u3066\u3001\n\n\n\n\n\"\"\""
        },
        {
            "cell_type": "code",
            "execution_count": null,
            "metadata": {
                "trusted": true
            },
            "outputs": [],
            "source": "print('Hello World!')"
        }
    ],
    "metadata": {
        "kernelspec": {
            "display_name": "Python 3 (ipykernel)",
            "language": "python",
            "name": "python3"
        },
        "language_info": {
            "codemirror_mode": {
                "name": "ipython",
                "version": 3
            },
            "file_extension": ".py",
            "mimetype": "text/x-python",
            "name": "python",
            "nbconvert_exporter": "python",
            "pygments_lexer": "ipython3",
            "version": "3.12.3"
        }
    },
    "nbformat": 4,
    "nbformat_minor": 5
}