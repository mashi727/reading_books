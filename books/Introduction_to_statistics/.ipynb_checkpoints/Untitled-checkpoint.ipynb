{
 "cells": [
  {
   "cell_type": "markdown",
   "id": "a40ccfdf",
   "metadata": {},
   "source": [
    "# 練習問題解答\n",
    "\n",
    "\n",
    "## 第1章 練習問題\n",
    "\n",
    "### 1.1\n",
    "次の統計について、上2桁の概数で答えよ（いずれも、本年度、ないしは直近の数字）。\n",
    "\n",
    "(i) 日本の人口"
   ]
  },
  {
   "cell_type": "code",
   "execution_count": 12,
   "id": "dcf55a20",
   "metadata": {},
   "outputs": [
    {
     "name": "stdout",
     "output_type": "stream",
     "text": [
      "Population of JAPAN is 124,947,000 人( 2022年10月1日現在 )\n"
     ]
    }
   ],
   "source": [
    "\"\"\"\n",
    "e-StatをAPI利用する際は、登録しないとダメなのね。\n",
    "API利用は改めて行うとして、とりあえずHPからデータをダウンロードするか。\n",
    "https://www.e-stat.go.jp/stat-search/files?page=1&layout=datalist&toukei=00200524&tstat=000000090001&cycle=7&year=20220&month=0&tclass1=000001011679&tclass2val=0\n",
    "\"\"\"\n",
    "\n",
    "\n",
    "import openpyxl as op\n",
    "\n",
    "# Excel ファイル（ワークブック）の読み込み\n",
    "wb = op.load_workbook(\"./a00100.xlsx\")\n",
    "\n",
    "# ワークシートの有効化\n",
    "ws = wb.active\n",
    "value = ws[\"K10\"].value\n",
    "\n",
    "\n",
    "population = int(value)*1000\n",
    "print('Population of JAPAN is',f\"{population:,}\",'人(',ws[\"I10\"].value,')')"
   ]
  },
  {
   "cell_type": "markdown",
   "id": "a5a71b91",
   "metadata": {},
   "source": [
    "(ii) 日本の国家予算（一般会計）\n",
    "1. 日本の国民総生産"
   ]
  },
  {
   "cell_type": "code",
   "execution_count": null,
   "id": "7645f6b2",
   "metadata": {},
   "outputs": [],
   "source": [
    "print('Hello World!')"
   ]
  }
 ],
 "metadata": {
  "kernelspec": {
   "display_name": "Python 3 (ipykernel)",
   "language": "python",
   "name": "python3"
  },
  "language_info": {
   "codemirror_mode": {
    "name": "ipython",
    "version": 3
   },
   "file_extension": ".py",
   "mimetype": "text/x-python",
   "name": "python",
   "nbconvert_exporter": "python",
   "pygments_lexer": "ipython3",
   "version": "3.12.3"
  }
 },
 "nbformat": 4,
 "nbformat_minor": 5
}
