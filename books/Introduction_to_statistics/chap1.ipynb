{
    "cells": [
        {
            "cell_type": "markdown",
            "metadata": {},
            "source": "# \u7df4\u7fd2\u554f\u984c\u89e3\u7b54\n\n\n## \u7b2c1\u7ae0 \u7df4\u7fd2\u554f\u984c\n\n### 1.1\n\u6b21\u306e\u7d71\u8a08\u306b\u3064\u3044\u3066\u3001\u4e0a2\u6841\u306e\u6982\u6570\u3067\u7b54\u3048\u3088\uff08\u3044\u305a\u308c\u3082\u3001\u672c\u5e74\u5ea6\u3001\u306a\u3044\u3057\u306f\u76f4\u8fd1\u306e\u6570\u5b57\uff09\u3002\n\n(i) \u65e5\u672c\u306e\u4eba\u53e3"
        },
        {
            "cell_type": "code",
            "execution_count": 12,
            "metadata": {
                "trusted": true
            },
            "outputs": [
                {
                    "name": "stdout",
                    "output_type": "stream",
                    "text": "Population of JAPAN is 124,947,000 \u4eba( 2022\u5e7410\u67081\u65e5\u73fe\u5728 )\n"
                }
            ],
            "source": "\"\"\"\ne-Stat\u3092API\u5229\u7528\u3059\u308b\u969b\u306f\u3001\u767b\u9332\u3057\u306a\u3044\u3068\u30c0\u30e1\u306a\u306e\u306d\u3002\nAPI\u5229\u7528\u306f\u6539\u3081\u3066\u884c\u3046\u3068\u3057\u3066\u3001\u3068\u308a\u3042\u3048\u305aHP\u304b\u3089\u30c7\u30fc\u30bf\u3092\u30c0\u30a6\u30f3\u30ed\u30fc\u30c9\u3059\u308b\u304b\u3002\nhttps://www.e-stat.go.jp/stat-search/files?page=1&layout=datalist&toukei=00200524&tstat=000000090001&cycle=7&year=20220&month=0&tclass1=000001011679&tclass2val=0\n\"\"\"\n\n\nimport openpyxl as op\n\n# Excel \u30d5\u30a1\u30a4\u30eb\uff08\u30ef\u30fc\u30af\u30d6\u30c3\u30af\uff09\u306e\u8aad\u307f\u8fbc\u307f\nwb = op.load_workbook(\"./a00100.xlsx\")\n\n# \u30ef\u30fc\u30af\u30b7\u30fc\u30c8\u306e\u6709\u52b9\u5316\nws = wb.active\nvalue = ws[\"K10\"].value\n\n\npopulation = int(value)*1000\nprint('Population of JAPAN is',f\"{population:,}\",'\u4eba(',ws[\"I10\"].value,')')"
        },
        {
            "cell_type": "markdown",
            "metadata": {},
            "source": "(ii) \u65e5\u672c\u306e\u56fd\u5bb6\u4e88\u7b97\uff08\u4e00\u822c\u4f1a\u8a08\uff09\n1. \u65e5\u672c\u306e\u56fd\u6c11\u7dcf\u751f\u7523"
        },
        {
            "cell_type": "code",
            "execution_count": null,
            "metadata": {
                "trusted": true
            },
            "outputs": [],
            "source": "print('Hello World!')"
        }
    ],
    "metadata": {
        "kernelspec": {
            "display_name": "Python 3 (ipykernel)",
            "language": "python",
            "name": "python3"
        },
        "language_info": {
            "codemirror_mode": {
                "name": "ipython",
                "version": 3
            },
            "file_extension": ".py",
            "mimetype": "text/x-python",
            "name": "python",
            "nbconvert_exporter": "python",
            "pygments_lexer": "ipython3",
            "version": "3.12.3"
        }
    },
    "nbformat": 4,
    "nbformat_minor": 5
}